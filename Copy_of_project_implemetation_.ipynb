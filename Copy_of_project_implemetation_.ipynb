{
  "nbformat": 4,
  "nbformat_minor": 0,
  "metadata": {
    "colab": {
      "provenance": [],
      "authorship_tag": "ABX9TyNo3xKU+g7WjKGsMU8Qu4Q4",
      "include_colab_link": true
    },
    "kernelspec": {
      "name": "python3",
      "display_name": "Python 3"
    },
    "language_info": {
      "name": "python"
    }
  },
  "cells": [
    {
      "cell_type": "markdown",
      "metadata": {
        "id": "view-in-github",
        "colab_type": "text"
      },
      "source": [
        "<a href=\"https://colab.research.google.com/github/Kasunageswar/Data-Encrypton-Technologies/blob/main/Copy_of_project_implemetation_.ipynb\" target=\"_parent\"><img src=\"https://colab.research.google.com/assets/colab-badge.svg\" alt=\"Open In Colab\"/></a>"
      ]
    },
    {
      "cell_type": "code",
      "source": [
        "# Install pycryptodome library (only needs to run once)\n",
        "!pip install pycryptodome\n"
      ],
      "metadata": {
        "colab": {
          "base_uri": "https://localhost:8080/"
        },
        "id": "4KLOeNt_cU41",
        "outputId": "3399f48e-e57d-4811-d964-0933e562fc5d"
      },
      "execution_count": null,
      "outputs": [
        {
          "output_type": "stream",
          "name": "stdout",
          "text": [
            "Collecting pycryptodome\n",
            "  Downloading pycryptodome-3.22.0-cp37-abi3-manylinux_2_17_x86_64.manylinux2014_x86_64.whl.metadata (3.4 kB)\n",
            "Downloading pycryptodome-3.22.0-cp37-abi3-manylinux_2_17_x86_64.manylinux2014_x86_64.whl (2.3 MB)\n",
            "\u001b[2K   \u001b[90m━━━━━━━━━━━━━━━━━━━━━━━━━━━━━━━━━━━━━━━━\u001b[0m \u001b[32m2.3/2.3 MB\u001b[0m \u001b[31m26.3 MB/s\u001b[0m eta \u001b[36m0:00:00\u001b[0m\n",
            "\u001b[?25hInstalling collected packages: pycryptodome\n",
            "Successfully installed pycryptodome-3.22.0\n"
          ]
        }
      ]
    },
    {
      "cell_type": "code",
      "source": [
        "from Crypto.PublicKey import RSA\n",
        "from Crypto.Cipher import PKCS1_OAEP\n",
        "import base64\n"
      ],
      "metadata": {
        "id": "X8qkIDPAcWAa"
      },
      "execution_count": null,
      "outputs": []
    },
    {
      "cell_type": "code",
      "execution_count": null,
      "metadata": {
        "colab": {
          "base_uri": "https://localhost:8080/"
        },
        "id": "BQ7TpRnzbziQ",
        "outputId": "63a24a5c-ecb9-4ba2-ebc9-96215207d21f"
      },
      "outputs": [
        {
          "output_type": "stream",
          "name": "stdout",
          "text": [
            "\n",
            "🔒 Quantum-Resistant Encryption Simulation 🔒\n",
            "\n",
            "Select Data Type for Encryption (1. Text, 2. File Content): 1\n",
            "Enter the text you want to encrypt: kasu\n",
            "\n",
            "Ciphertext (Base64 Encoded):\n",
            "gNfxXiCggENZXY4RVlFlwLZOeYL4/i868h5CHzY039CIKMtopUyjU5eR5/k6JkT6Ft/NUV90xqWW0dbr1xMDusPRLbufRboXUoK/Zpq+s0Us6vCxxliJA1eS/uo8eTpt2EoqMFLGVHGhTozoixy53Qnx6WRP5DleJqEFqoeLqY2TG/Np/xjvu8yhTsvxbx34Bt4s49ff6/7uG1FA6Rg4h5/0Z0jxNw9xKKmWCF6AWaIFGfP2KNDToy9NXor237UzaaQXMp1cr5C0s7tz4qxKrhD1D0rkaDMyiEA5Pk5f1KYrQEcOZcoTRCqsRwW9ZVolsdiRm0Kd8DNqfkOVWbjbUCuUaeKEcMYLVmipgvC7/A+alWeg1C4pEHxfvCwudZ3yCK25gxir55/yOmKDIEZcJNoOfDgwpkVASdgNF0WE/mvVj5cqd9MZjP+6TndSHUY7j/32GeXJ6o5/a9NKAj96O2SgnuDhkb9AijphBeid9IKbrXsBuIO2Zgp1yijjKBC8x/a5kBd5KeTVGhXkTdU2HqQ1U6rjv1qvnvcmHvSYXTUsp3SDPuVOmzom6bm4PRpsBG8w+tKanDc3gXI2JdDeyXaNijhgqr79f4QCprahj0f5ytRj++djztdYgVwvjj/1erXnxe42QWUUqRFzTXyVtHB3qM31mFZQJJxK+qKUEVQ=\n",
            "\n",
            "Decrypted Data:\n",
            "kasu\n"
          ]
        }
      ],
      "source": [
        "# ----------------------------------------------\n",
        "# 📌 1. Quantum-Resistant Encryption (Simulation)\n",
        "# ----------------------------------------------\n",
        "\n",
        "# Importing necessary libraries\n",
        "from Crypto.PublicKey import RSA\n",
        "from Crypto.Cipher import PKCS1_OAEP\n",
        "import base64\n",
        "\n",
        "print(\"\\n🔒 Quantum-Resistant Encryption Simulation 🔒\\n\")\n",
        "\n",
        "# Asking user to select the type of data to encrypt\n",
        "choice = input(\"Select Data Type for Encryption (1. Text, 2. File Content): \")\n",
        "\n",
        "# Generating RSA Key Pair (4096-bit) - In real quantum resistance, lattice-based algorithms like Kyber are used\n",
        "key = RSA.generate(4096)\n",
        "public_key = key.publickey()  # Extracting the public key\n",
        "cipher = PKCS1_OAEP.new(public_key)  # Creating cipher object for encryption\n",
        "\n",
        "# Handling user input based on choice\n",
        "if choice == '1':\n",
        "    data = input(\"Enter the text you want to encrypt: \").encode()  # Encoding text into bytes\n",
        "elif choice == '2':\n",
        "    file_path = input(\"Enter the file path to encrypt content: \")\n",
        "    with open(file_path, 'rb') as f:\n",
        "        data = f.read()  # Reading file content in binary\n",
        "else:\n",
        "    print(\"Invalid choice! Defaulting to Text input.\")\n",
        "    data = input(\"Enter the text you want to encrypt: \").encode()\n",
        "\n",
        "# Encrypting the data\n",
        "ciphertext = cipher.encrypt(data)\n",
        "\n",
        "# Displaying the encrypted output\n",
        "print(f\"\\nCiphertext (Base64 Encoded):\\n{base64.b64encode(ciphertext).decode()}\")\n",
        "\n",
        "# Decrypting to verify correctness\n",
        "decipher = PKCS1_OAEP.new(key)  # Creating decipher object\n",
        "plaintext = decipher.decrypt(ciphertext)  # Decrypting the ciphertext\n",
        "\n",
        "# Displaying the decrypted original data\n",
        "print(f\"\\nDecrypted Data:\\n{plaintext.decode(errors='ignore')}\")\n"
      ]
    },
    {
      "cell_type": "code",
      "source": [
        "# ----------------------------------------------\n",
        "# 📌 2. Homomorphic Encryption (Addition Simulation - Easy Explanation)\n",
        "# ----------------------------------------------\n",
        "\n",
        "print(\"\\n🔐 Homomorphic Encryption Simulation 🔐\\n\")\n",
        "\n",
        "# Step 1: Asking the user to enter two numbers\n",
        "num1 = int(input(\"Enter the first number: \"))\n",
        "num2 = int(input(\"Enter the second number: \"))\n",
        "\n",
        "# Step 2: Encryption Phase\n",
        "# In real homomorphic encryption, we encrypt data but still want to perform operations like addition.\n",
        "# Here, to simulate it easily, we \"hide\" the numbers by adding 1000 to each number.\n",
        "offset = 1000  # Secret offset to simulate encryption\n",
        "\n",
        "enc_num1 = num1 + offset  # Encrypt first number by adding offset\n",
        "enc_num2 = num2 + offset  # Encrypt second number by adding offset\n",
        "\n",
        "# Step 3: Performing addition directly on encrypted numbers\n",
        "# This shows that we can work with encrypted data without decrypting first.\n",
        "enc_sum = enc_num1 + enc_num2\n",
        "\n",
        "# Step 4: Decryption Phase\n",
        "# To find the real sum, we need to \"remove\" the added offset.\n",
        "# Since we added offset twice (once to each number), we subtract offset * 2.\n",
        "dec_sum = enc_sum - (2 * offset)\n",
        "\n",
        "# Step 5: Printing the results\n",
        "print(f\"\\nEncrypted Sum (Still hidden): {enc_sum}\")  # This is the encrypted result\n",
        "print(f\"Decrypted Sum (Original answer): {dec_sum}\")  # This is the correct sum after decryption\n"
      ],
      "metadata": {
        "colab": {
          "base_uri": "https://localhost:8080/"
        },
        "id": "4JgIln7qcLV3",
        "outputId": "4fa834db-1c9d-4604-b104-301852b51f52"
      },
      "execution_count": null,
      "outputs": [
        {
          "output_type": "stream",
          "name": "stdout",
          "text": [
            "\n",
            "🔐 Homomorphic Encryption Simulation 🔐\n",
            "\n",
            "Enter the first number: 25\n",
            "Enter the second number: 45\n",
            "\n",
            "Encrypted Sum (Still hidden): 2070\n",
            "Decrypted Sum (Original answer): 70\n"
          ]
        }
      ]
    },
    {
      "cell_type": "code",
      "source": [
        "# ----------------------------------------------\n",
        "# 📌 3. Blockchain Key Management Simulation\n",
        "# ----------------------------------------------\n",
        "\n",
        "# Importing hashlib to simulate blockchain behavior\n",
        "# (hashlib is used to create unique hash values just like blockchain stores data securely)\n",
        "import hashlib\n",
        "\n",
        "print(\"\\n⛓️ Blockchain Key Management Simulation ⛓️\\n\")\n",
        "\n",
        "# Step 1: Ask the user to input their secret encryption key\n",
        "user_key = input(\"Enter your encryption key (any secret string): \")\n",
        "\n",
        "# Step 2: Simulating a blockchain transaction\n",
        "# In blockchain, every transaction gets a unique ID by applying a cryptographic hash function (like SHA-256)\n",
        "\n",
        "# Create a \"Transaction Hash\" for the entered key\n",
        "transaction_hash = hashlib.sha256(user_key.encode()).hexdigest()\n",
        "\n",
        "# Step 3: Display the Transaction ID\n",
        "print(\"\\n🔒 Your key has been securely stored on blockchain with Transaction ID:\")\n",
        "print(transaction_hash)\n",
        "\n",
        "# (In real blockchain, this transaction would be recorded in a decentralized ledger.)\n"
      ],
      "metadata": {
        "colab": {
          "base_uri": "https://localhost:8080/"
        },
        "id": "wYPFWQeacmna",
        "outputId": "2dbd789b-af1d-4ae4-8c4a-925128e4bce8"
      },
      "execution_count": null,
      "outputs": [
        {
          "output_type": "stream",
          "name": "stdout",
          "text": [
            "\n",
            "⛓️ Blockchain Key Management Simulation ⛓️\n",
            "\n",
            "Enter your encryption key (any secret string): kasu\n",
            "\n",
            "🔒 Your key has been securely stored on blockchain with Transaction ID:\n",
            "e265d9f07bdca6b6cc2c4dc9eb07ba7c926e04cc2626e33a9b7f23eafe5892e7\n"
          ]
        }
      ]
    },
    {
      "cell_type": "code",
      "source": [
        "# ----------------------------------------------\n",
        "# 📌 4. AI-Driven Key Generation (Simple Simulation)\n",
        "# ----------------------------------------------\n",
        "\n",
        "# Importing required libraries\n",
        "# random --> to generate random values\n",
        "# string --> to use letters and numbers easily\n",
        "import random\n",
        "import string\n",
        "\n",
        "print(\"\\n🧠 AI-Driven Key Generation Simulation 🧠\\n\")\n",
        "\n",
        "# Step 1: Ask the user for the desired key length\n",
        "key_length = int(input(\"Enter the length of the key you want to generate: \"))\n",
        "\n",
        "# Step 2: Generate the key\n",
        "# We simulate AI-driven random key generation by using a very strong random generator\n",
        "# (SystemRandom uses system sources like mouse movement, CPU timings etc. for better randomness)\n",
        "\n",
        "key = ''.join(random.SystemRandom().choice(string.ascii_letters + string.digits) for _ in range(key_length))\n",
        "\n",
        "# Step 3: Display the generated key\n",
        "print(\"\\n🔐 Your Secure Randomly Generated Key is:\\n\")\n",
        "print(key)\n",
        "\n",
        "# Note:\n",
        "# In real AI-driven key generation,\n",
        "# Machine learning models may predict patterns to improve randomness even more.\n",
        "# Here we simulate it with secure random generation method.\n",
        "#SystemRandom().choice(...) picks one random character each time.\n",
        "\n",
        "#string.ascii_letters = a-z + A-Z (all alphabets),\n",
        "\n",
        "#string.digits = 0-9 (all numbers).\n",
        "\n",
        "#We do this for the number of characters the user wants.\n",
        "\n",
        "#''.join(...) connects all the random characters into one string (the key)."
      ],
      "metadata": {
        "colab": {
          "base_uri": "https://localhost:8080/"
        },
        "id": "Yg_9R8lfc2Ta",
        "outputId": "f43e1f0d-2ce4-46cb-9b48-8bbf8e24e54c"
      },
      "execution_count": null,
      "outputs": [
        {
          "output_type": "stream",
          "name": "stdout",
          "text": [
            "\n",
            "🧠 AI-Driven Key Generation Simulation 🧠\n",
            "\n",
            "Enter the length of the key you want to generate: 7\n",
            "\n",
            "🔐 Your Secure Randomly Generated Key is:\n",
            "\n",
            "NGTVOQR\n"
          ]
        }
      ]
    },
    {
      "cell_type": "code",
      "source": [
        "# ----------------------------------------------\n",
        "# 📌 5. Multi-Factor Authentication (MFA) Simulation\n",
        "# ----------------------------------------------\n",
        "\n",
        "# Importing random library to generate OTP\n",
        "import random\n",
        "\n",
        "print(\"\\n🔑 Multi-Factor Authentication (MFA) Simulation 🔑\\n\")\n",
        "\n",
        "# Step 1: Setting a correct password\n",
        "# (In real applications, this would be stored securely in a database)\n",
        "correct_password = \"mySecret123\"\n",
        "\n",
        "# Step 2: Ask the user to enter their password\n",
        "user_password = input(\"Enter your password: \")\n",
        "\n",
        "# Step 3: Generating a One-Time Password (OTP)\n",
        "# OTP is a random 4-digit number sent to user for additional verification\n",
        "otp = random.randint(1000, 9999)  # OTP between 1000 and 9999\n",
        "print(f\"\\n📨 OTP sent to your registered device: {otp}\")\n",
        "\n",
        "# Step 4: Ask the user to enter the OTP they received\n",
        "user_otp = int(input(\"Enter the OTP you received: \"))\n",
        "\n",
        "# Step 5: Verifying both Password and OTP\n",
        "# Both must be correct for successful login\n",
        "if user_password == correct_password and user_otp == otp:\n",
        "    print(\"\\n✅ Access Granted: Multi-Factor Authentication Successful!\")\n",
        "else:\n",
        "    print(\"\\n❌ Access Denied: Password or OTP Incorrect!\")\n",
        "\n",
        "# 📚 Explanation:\n",
        "# First factor = Password ➔ Something the user knows\n",
        "# Second factor = OTP ➔ Something the user receives temporarily\n",
        "# Both together ensure strong user verification.\n"
      ],
      "metadata": {
        "colab": {
          "base_uri": "https://localhost:8080/"
        },
        "id": "1Km6qsQadxY2",
        "outputId": "b8eaa929-7e72-4d6f-f214-8bb1fee24be3"
      },
      "execution_count": null,
      "outputs": [
        {
          "output_type": "stream",
          "name": "stdout",
          "text": [
            "\n",
            "🔑 Multi-Factor Authentication (MFA) Simulation 🔑\n",
            "\n",
            "Enter your password: mySecret123\n",
            "\n",
            "📨 OTP sent to your registered device: 4419\n",
            "Enter the OTP you received: 4419\n",
            "\n",
            "✅ Access Granted: Multi-Factor Authentication Successful!\n"
          ]
        }
      ]
    },
    {
      "cell_type": "code",
      "source": [
        "# ----------------------------------------------\n",
        "# 📌 6. Lightweight Cryptography (Simple AES Encryption)\n",
        "# ----------------------------------------------\n",
        "\n",
        "# Installing pycryptodome library if not already installed\n",
        "# (Run only once at the start of your Colab)\n",
        "!pip install pycryptodome\n",
        "\n",
        "# Importing necessary modules\n",
        "from Crypto.Cipher import AES\n",
        "from Crypto.Random import get_random_bytes\n",
        "import base64\n",
        "\n",
        "print(\"\\n🌟 Lightweight Cryptography Simulation (AES) 🌟\\n\")\n",
        "\n",
        "# Step 1: Asking the user to select the data type\n",
        "choice = input(\"Select data type to encrypt (1. Text, 2. File Content): \")\n",
        "\n",
        "# Step 2: Key generation\n",
        "# AES requires a key - here we generate a random 128-bit (16 bytes) key\n",
        "key = get_random_bytes(16)  # 16 bytes = 128 bits\n",
        "\n",
        "# Step 3: Creating AES cipher in EAX mode\n",
        "# EAX mode provides both confidentiality and integrity\n",
        "cipher = AES.new(key, AES.MODE_EAX)\n",
        "\n",
        "# Step 4: Reading the data based on user choice\n",
        "if choice == '1':\n",
        "    # If user selects Text input\n",
        "    data = input(\"Enter the text you want to encrypt: \").encode()\n",
        "elif choice == '2':\n",
        "    # If user selects File input\n",
        "    file_path = input(\"Enter the path of the file to encrypt: \")\n",
        "    with open(file_path, 'rb') as f:\n",
        "        data = f.read()\n",
        "else:\n",
        "    print(\"Invalid choice! Defaulting to Text input.\")\n",
        "    data = input(\"Enter the text you want to encrypt: \").encode()\n",
        "\n",
        "# Step 5: Encrypting the data\n",
        "nonce = cipher.nonce  # Save nonce to decrypt later\n",
        "ciphertext, tag = cipher.encrypt_and_digest(data)  # Encrypt data and generate authentication tag\n",
        "\n",
        "# Step 6: Displaying encrypted output\n",
        "print(\"\\n🔒 Encrypted Data (Base64 Encoded):\\n\")\n",
        "print(base64.b64encode(ciphertext).decode())\n",
        "\n",
        "# Step 7: Decryption Phase\n",
        "# Recreating the cipher for decryption using the same key and nonce\n",
        "cipher_decrypt = AES.new(key, AES.MODE_EAX, nonce=nonce)\n",
        "decrypted_data = cipher_decrypt.decrypt(ciphertext)\n",
        "\n",
        "# Step 8: Displaying decrypted output\n",
        "print(\"\\n🔓 Decrypted Data:\\n\")\n",
        "print(decrypted_data.decode(errors='ignore'))\n",
        "\n",
        "# 📚 Simple Explanation:\n",
        "# - AES is a very fast and lightweight encryption method.\n",
        "# - EAX mode also ensures that nobody can change the data secretly.\n",
        "# - Nonce must be saved to decrypt correctly.\n",
        "# - Lightweight encryption is good for IoT, mobile devices where memory and speed are important.\n"
      ],
      "metadata": {
        "colab": {
          "base_uri": "https://localhost:8080/"
        },
        "id": "tF0PQBDYeDbM",
        "outputId": "284bf54b-de5e-4084-9f3d-9c777f0b394c"
      },
      "execution_count": null,
      "outputs": [
        {
          "output_type": "stream",
          "name": "stdout",
          "text": [
            "Requirement already satisfied: pycryptodome in /usr/local/lib/python3.11/dist-packages (3.22.0)\n",
            "\n",
            "🌟 Lightweight Cryptography Simulation (AES) 🌟\n",
            "\n",
            "Select data type to encrypt (1. Text, 2. File Content): 1\n",
            "Enter the text you want to encrypt: kasu\n",
            "\n",
            "🔒 Encrypted Data (Base64 Encoded):\n",
            "\n",
            "2vlkMg==\n",
            "\n",
            "🔓 Decrypted Data:\n",
            "\n",
            "kasu\n"
          ]
        }
      ]
    },
    {
      "cell_type": "code",
      "source": [
        "# 📌 7. Honey Encryption Simulation\n",
        "# ----------------------------------------------\n",
        "\n",
        "import random\n",
        "import string\n",
        "\n",
        "# Function to generate a random \"honey\" text (fake ciphertext)\n",
        "def generate_honey_text(length):\n",
        "    return ''.join(random.choices(string.ascii_letters + string.digits, k=length))\n",
        "\n",
        "print(\"\\n🌟 Honey Encryption Simulation 🌟\\n\")\n",
        "\n",
        "# Step 1: Ask the user for the secret message to encrypt\n",
        "secret_message = input(\"Enter the secret message to encrypt: \")\n",
        "\n",
        "# Step 2: Generate a random fake message (Honey Text)\n",
        "fake_message = generate_honey_text(len(secret_message))\n",
        "\n",
        "# Step 3: Encrypt the message by combining it with the fake message\n",
        "# In Honey Encryption, the real message would be encrypted to something\n",
        "# indistinguishable from a fake message. So, we simulate by adding noise.\n",
        "honey_encrypted_message = secret_message + fake_message\n",
        "\n",
        "# Step 4: Decrypting the message (for simulation, assume the fake message stays the same)\n",
        "# An attacker will never know if the decryption is the real one or a fake one.\n",
        "print(\"\\n🔒 Honey Encrypted Message (Fake + Real):\")\n",
        "print(honey_encrypted_message)\n",
        "\n",
        "# Step 5: Explanation\n",
        "# In real Honey Encryption, the correct decryption would give the real message.\n",
        "# For an attacker, there will always be several possible \"valid\" plaintexts.\n",
        "#Honey Text: This is a random fake ciphertext added to the real ciphertext. It's designed to confuse the attacker.\n",
        "#Goal: Even after decrypting the message, the attacker cannot distinguish between a real message and fake ones."
      ],
      "metadata": {
        "colab": {
          "base_uri": "https://localhost:8080/"
        },
        "id": "_IdScLPYeZ4I",
        "outputId": "15b7f167-7d32-4898-e2d7-4ef49b6a3920"
      },
      "execution_count": null,
      "outputs": [
        {
          "output_type": "stream",
          "name": "stdout",
          "text": [
            "\n",
            "🌟 Honey Encryption Simulation 🌟\n",
            "\n",
            "Enter the secret message to encrypt: kasu is a goodboy\n",
            "\n",
            "🔒 Honey Encrypted Message (Fake + Real):\n",
            "kasu is a goodboyaCZkw8AMaSaps7LrP\n"
          ]
        }
      ]
    },
    {
      "cell_type": "code",
      "source": [
        "# 📌 8. Federated Learning Simulation with Privacy (Homomorphic Encryption Simulation)\n",
        "# ----------------------------------------------------------------------------------\n",
        "\n",
        "from Crypto.PublicKey import RSA\n",
        "from Crypto.Cipher import PKCS1_OAEP\n",
        "from Crypto.Random import get_random_bytes\n",
        "import numpy as np\n",
        "\n",
        "# Step 1: Initialize RSA Encryption for Simulating Homomorphic Encryption\n",
        "# RSA encryption simulates secure aggregation of model updates.\n",
        "def generate_RSA_keypair():\n",
        "    # Generate a public/private RSA key pair\n",
        "    key = RSA.generate(2048)\n",
        "    private_key = key\n",
        "    public_key = key.publickey()\n",
        "    return private_key, public_key\n",
        "\n",
        "def encrypt_with_public_key(public_key, data):\n",
        "    # Encrypt data using the RSA public key\n",
        "    cipher = PKCS1_OAEP.new(public_key)\n",
        "    encrypted_data = cipher.encrypt(data.encode())\n",
        "    return encrypted_data\n",
        "\n",
        "def decrypt_with_private_key(private_key, encrypted_data):\n",
        "    # Decrypt data using the RSA private key\n",
        "    cipher = PKCS1_OAEP.new(private_key)\n",
        "    decrypted_data = cipher.decrypt(encrypted_data).decode()\n",
        "    return decrypted_data\n",
        "\n",
        "# Step 2: Simulate Local Model Training (Adding Random Updates)\n",
        "def local_model_training(data):\n",
        "    # Simple model update: sum of data values + random noise\n",
        "    model_update = np.sum(data) + np.random.randn()\n",
        "    return model_update\n",
        "\n",
        "# Simulate Federated Learning Process (with encrypted updates)\n",
        "def federated_learning_with_encryption(device_data, public_key, private_key):\n",
        "    # Initialize a global model (in practice, could start with random or zeroed model)\n",
        "    global_model = 0\n",
        "\n",
        "    # Local training on each device and encryption of model updates\n",
        "    encrypted_updates = []\n",
        "    for data in device_data:\n",
        "        # Perform local model training\n",
        "        local_update = local_model_training(data)\n",
        "        # Encrypt the local model update before sending to the central server\n",
        "        encrypted_update = encrypt_with_public_key(public_key, str(local_update))\n",
        "        encrypted_updates.append(encrypted_update)\n",
        "\n",
        "    # Server aggregates the encrypted updates (simulated as sums of encrypted updates)\n",
        "    for encrypted_update in encrypted_updates:\n",
        "        # Decrypt updates on the server to aggregate them\n",
        "        decrypted_update = decrypt_with_private_key(private_key, encrypted_update)\n",
        "        global_model += float(decrypted_update)\n",
        "\n",
        "    # Average the global model (simulating model aggregation)\n",
        "    global_model /= len(device_data)\n",
        "    return global_model\n",
        "\n",
        "print(\"\\n🌟 Federated Learning with Privacy Simulation (Homomorphic Encryption Simulation) 🌟\\n\")\n",
        "\n",
        "# Step 3: Simulate data from multiple devices (each device has a local dataset)\n",
        "device_data = [\n",
        "    np.random.rand(10),  # Device 1 data\n",
        "    np.random.rand(10),  # Device 2 data\n",
        "    np.random.rand(10)   # Device 3 data\n",
        "]\n",
        "\n",
        "# Step 4: Generate RSA keys for encryption/decryption\n",
        "private_key, public_key = generate_RSA_keypair()\n",
        "\n",
        "# Step 5: Perform Federated Learning with encrypted updates\n",
        "global_model = federated_learning_with_encryption(device_data, public_key, private_key)\n",
        "\n",
        "# Step 6: Output the global model after aggregation\n",
        "print(\"\\n🔒 Federated Learning - Global Model Result (Aggregated):\", global_model)\n",
        "\n",
        "# Step 7: Explanation\n",
        "# - The local updates are encrypted using the public RSA key to simulate secure updates.\n",
        "# - These encrypted updates are sent to the central server.\n",
        "# - The server decrypts the updates and aggregates them.\n",
        "# - Homomorphic Encryption (or similar) would allow more complex privacy-preserving computations,\n",
        "#   but here we simulate it with simple encryption and decryption.\n"
      ],
      "metadata": {
        "colab": {
          "base_uri": "https://localhost:8080/"
        },
        "id": "DOI6aUI2gJg8",
        "outputId": "2c50249a-103b-4728-a6e8-26d9e2b5172f"
      },
      "execution_count": null,
      "outputs": [
        {
          "output_type": "stream",
          "name": "stdout",
          "text": [
            "\n",
            "🌟 Federated Learning with Privacy Simulation (Homomorphic Encryption Simulation) 🌟\n",
            "\n",
            "\n",
            "🔒 Federated Learning - Global Model Result (Aggregated): 5.879894060420813\n"
          ]
        }
      ]
    },
    {
      "cell_type": "code",
      "source": [
        "# 📌 9. Zero-Trust Architecture Simulation\n",
        "# ----------------------------------------------\n",
        "\n",
        "class ZeroTrustSystem:\n",
        "    def __init__(self):\n",
        "        # Initialize an empty system with no trusted entities by default\n",
        "        self.trusted_entities = set()\n",
        "\n",
        "    def add_trusted_entity(self, entity):\n",
        "        # Add an entity to the trusted list (after verification)\n",
        "        self.trusted_entities.add(entity)\n",
        "\n",
        "    def verify_entity(self, entity):\n",
        "        # Simulate a verification process (e.g., checking credentials, authentication)\n",
        "        if entity in self.trusted_entities:\n",
        "            print(f\"Entity {entity} is verified and trusted!\")\n",
        "            return True\n",
        "        else:\n",
        "            print(f\"Entity {entity} is not trusted!\")\n",
        "            return False\n",
        "\n",
        "print(\"\\n🌟 Zero-Tier Architecture Simulation 🌟\\n\")\n",
        "\n",
        "# Step 1: Initialize Zero Trust System\n",
        "system = ZeroTrustSystem()\n",
        "\n",
        "# Step 2: Add trusted entities (these would be verified through secure means)\n",
        "system.add_trusted_entity(\"Device_A\")\n",
        "system.add_trusted_entity(\"Employee_X\")\n",
        "\n",
        "# Step 3: Verify entities attempting access\n",
        "entity = input(\"Enter the entity trying to access the system (e.g., Device_A, Employee_X): \")\n",
        "\n",
        "# Step 4: Perform verification\n",
        "system.verify_entity(entity)\n",
        "\n",
        "# Step 5: Explanation\n",
        "# In Zero Trust, no entity (internal or external) is trusted by default.\n",
        "# Every entity must be authenticated and authorized before gaining access.\n",
        "# This helps prevent attacks from insiders or outsiders with malicious intent.\n"
      ],
      "metadata": {
        "colab": {
          "base_uri": "https://localhost:8080/"
        },
        "id": "mEF6TTlsfiMA",
        "outputId": "0b0d7f1b-ca63-41d6-cdfc-77a9ee2ec8f7"
      },
      "execution_count": null,
      "outputs": [
        {
          "output_type": "stream",
          "name": "stdout",
          "text": [
            "\n",
            "🌟 Zero-Tier Architecture Simulation 🌟\n",
            "\n",
            "Enter the entity trying to access the system (e.g., Device_A, Employee_X): Device_A\n",
            "Entity Device_A is verified and trusted!\n"
          ]
        },
        {
          "output_type": "execute_result",
          "data": {
            "text/plain": [
              "True"
            ]
          },
          "metadata": {},
          "execution_count": 14
        }
      ]
    }
  ]
}